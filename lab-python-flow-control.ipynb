{
 "cells": [
  {
   "cell_type": "markdown",
   "id": "d3bfc191-8885-42ee-b0a0-bbab867c6f9f",
   "metadata": {
    "tags": []
   },
   "source": [
    "# Lab | Flow Control"
   ]
  },
  {
   "cell_type": "markdown",
   "id": "3851fcd1-cf98-4653-9c89-e003b7ec9400",
   "metadata": {},
   "source": [
    "## Exercise: Managing Customer Orders Optimized\n",
    "\n",
    "In the last lab, you were starting an online store that sells various products. To ensure smooth operations, you developed a program that manages customer orders and inventory.\n",
    "\n",
    "You did so without using flow control. Let's go a step further and improve this code.\n",
    "\n",
    "Follow the steps below to complete the exercise:\n",
    "\n",
    "1. Look at your code from the lab data structures, and improve repeated code with loops.\n",
    "\n",
    "2. Instead of asking the user to input the name of three products that a customer wants to order, do the following:\n",
    "    \n",
    "    a. Prompt the user to enter the name of a product that a customer wants to order.\n",
    "    \n",
    "    b. Add the product name to the \"customer_orders\" set.\n",
    "    \n",
    "    c. Ask the user if they want to add another product (yes/no).\n",
    "    \n",
    "    d. Continue the loop until the user does not want to add another product.\n",
    "\n",
    "3. Instead of updating the inventory by subtracting 1 from the quantity of each product, only do it for  the products that were ordered (those in \"customer_orders\")."
   ]
  },
  {
   "cell_type": "code",
   "execution_count": 5,
   "id": "9df5c787-79e6-488d-b665-e18ef3dd2c89",
   "metadata": {},
   "outputs": [
    {
     "name": "stdin",
     "output_type": "stream",
     "text": [
      "Please, introduce a quantity for t-shirt 3\n",
      "Please, introduce a quantity for mug 6\n",
      "Please, introduce a quantity for hat 8\n",
      "Please, introduce a quantity for book 3\n",
      "Please, introduce a quantity for keychain 2\n",
      "Write the product you need (or write 'no' to end):  hat\n",
      "Write the product you need (or write 'no' to end):  mug\n",
      "Write the product you need (or write 'no' to end):  book\n",
      "Write the product you need (or write 'no' to end):  hat\n",
      "Write the product you need (or write 'no' to end):  book\n",
      "Write the product you need (or write 'no' to end):  book\n",
      "Write the product you need (or write 'no' to end):  end\n"
     ]
    },
    {
     "name": "stdout",
     "output_type": "stream",
     "text": [
      "Wrong product, please write a correct one or write done to finish ordering\n"
     ]
    },
    {
     "name": "stdin",
     "output_type": "stream",
     "text": [
      "Write the product you need (or write 'no' to end):  no\n"
     ]
    },
    {
     "name": "stdout",
     "output_type": "stream",
     "text": [
      "Customers orders are:  {'mug', 'book', 'hat'}\n",
      "Order Statistics:\n",
      "Total Products Ordered:  3\n",
      "Percentage of Products Ordered:  60.0 %\n",
      "Updated Inventory:\n",
      "t-shirt: 3\n",
      "mug: 5\n",
      "hat: 7\n",
      "book: 2\n",
      "keychain: 2\n"
     ]
    }
   ],
   "source": [
    "products = [\"t-shirt\", \"mug\", \"hat\", \"book\", \"keychain\"]\n",
    "inventory = {}\n",
    "for product in products:\n",
    "    quantity=int(input(f\"Please, introduce a quantity for {product}\"))\n",
    "    inventory[product] = quantity\n",
    "    \n",
    "customers_orders=set()\n",
    "\n",
    "while True:\n",
    "    selected_product = input(\"Write the product you need (or write 'no' to end): \").strip()\n",
    "    if selected_product == 'no':\n",
    "        break\n",
    "    else:\n",
    "        if selected_product in products:\n",
    "            customers_orders.add(selected_product)\n",
    "        else:\n",
    "            print(\"Wrong product, please write a correct one or write done to finish ordering\")\n",
    "        \n",
    "print(\"Customers orders are: \", customers_orders)\n",
    "\n",
    "total_orders = len(customers_orders)\n",
    "total_products = len(products)\n",
    "\n",
    "percentage = (total_orders *100)/total_products\n",
    "\n",
    "print(\"Order Statistics:\")\n",
    "print(\"Total Products Ordered: \", total_orders)\n",
    "print(\"Percentage of Products Ordered: \", percentage, \"%\")\n",
    "\n",
    "for product in customers_orders:\n",
    "    if inventory[product] > 0:\n",
    "        inventory[product] -= 1\n",
    "\n",
    "print(\"Updated Inventory:\")\n",
    "for product, quantity in inventory.items():\n",
    "    print(f\"{product}: {quantity}\")"
   ]
  },
  {
   "cell_type": "code",
   "execution_count": null,
   "id": "90a498d0-712a-4f49-b58a-6059372ab8d8",
   "metadata": {},
   "outputs": [],
   "source": []
  }
 ],
 "metadata": {
  "kernelspec": {
   "display_name": "Python 3 (ipykernel)",
   "language": "python",
   "name": "python3"
  },
  "language_info": {
   "codemirror_mode": {
    "name": "ipython",
    "version": 3
   },
   "file_extension": ".py",
   "mimetype": "text/x-python",
   "name": "python",
   "nbconvert_exporter": "python",
   "pygments_lexer": "ipython3",
   "version": "3.12.7"
  }
 },
 "nbformat": 4,
 "nbformat_minor": 5
}
